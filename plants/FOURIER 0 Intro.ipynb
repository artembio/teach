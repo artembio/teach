{
 "cells": [
  {
   "cell_type": "markdown",
   "metadata": {
    "collapsed": false
   },
   "source": [
    "# Перетворення Фур'є. Приклади"
   ]
  },
  {
   "cell_type": "markdown",
   "metadata": {
    "collapsed": false
   },
   "source": [
    "** Параметри Коливань**:\n",
    "\n",
    "* Амплітуда\n",
    "* Частота (Період)\n",
    "* Фаза\n",
    "\n"
   ]
  },
  {
   "cell_type": "markdown",
   "metadata": {
    "collapsed": false
   },
   "source": [
   ]
  },
  {
   "cell_type": "markdown",
   "metadata": {
    "collapsed": false
   },
   "source": [
    "# [Fourier Analysis reveals six natural cycles driving temperatures, no man-made effect: predicts cooling](http://joannenova.com.au/2013/05/fourier-analysis-reveals-six-natural-cycles-no-man-made-effect-predicts-cooling/)\n",
    "\n",
    "Lüdecke, Hempelmann, and Weiss found that the temperature variation can be explained with six superimposed natural cycles. With only six cycles they can closely recreate the 240 year central European thermometer record. There is little “non-cyclical” signal left, suggesting that CO2 might have a minor or insignificant effect.\n",
    "The three German scientists used Fourier analysis to pick out the dominant cycles of one of the longest temperature records we have. The Central European temperature is an average of records from Prague, Vienna, Hohenpeissenberg, Kremsmünster, Paris, and Munich.\n",
    "The dominant cycle appears to be about 250 years. There is also a cycle of about 60 years, corresponding to the Atlantic/Pacific decadal oscillations.\n",
    "\n",
    "![](http://jonova.s3.amazonaws.com/graphs/fourier/fig2-web.gif)  15 year running average from 6 central European instrumental time series (black). Reconstruction with the 6 strongest Fourier components (red).\n",
    "\n",
    "![](http://jonova.s3.amazonaws.com/graphs/fourier/fig1-web.jpg) Left panel: DFT of the average from 6 central European instrumental time series. Right panel: same for an interpolated time series of a stalagmite from the Austrian Alps."
   ]
  },
  {
   "cell_type": "markdown",
   "metadata": {
    "collapsed": false
   },
   "source": [
    "# [Tissue-specific clocks in Arabidopsis show asymmetric coupling](http://www.nature.com/nature/journal/v515/n7527/full/nature13919.html)\n",
    "\n",
    "Many organisms rely on a circadian clock system to adapt to daily and seasonal environmental changes. The mammalian circadian clock consists of a central clock in the suprachiasmatic nucleus that has tightly coupled neurons and synchronizes other clocks in peripheral tissues1, 2. Plants also have a circadian clock, but plant circadian clock function has long been assumed to be uncoupled3. Only a few studies have been able to show weak, local coupling among cells4, 5, 6, 7. Here, by implementing two novel techniques, we have performed a comprehensive tissue-specific analysis of leaf tissues, and show that the vasculature and mesophyll clocks asymmetrically regulate each other in Arabidopsis. The circadian clock in the vasculature has characteristics distinct from other tissues, cycles robustly without environmental cues, and affects circadian clock regulation in other tissues. Furthermore, we found that vasculature-enriched genes that are rhythmically expressed are preferentially expressed in the evening, whereas rhythmic mesophyll-enriched genes tend to be expressed in the morning. Our results set the stage for a deeper understanding of how the vasculature circadian clock in plants regulates key physiological responses such as flowering time.\n",
    "\n",
    "![](http://www.nature.com/nature/journal/v515/n7527/images/nature13919-sf5.jpg)\n",
    "a, b, Relative gene expression levels in whole leaf, mesophyll and vasculature under short-day (a) and long-day (b) conditions. The average expression level in vasculature at ZT16 (a) and ZT0 (b) was set to 0. Blue- and green-coloured genes indicate higher and lower expression than average, respectively. c, Gene expression patterns of the PRR7, TOC1 and ELF4 in whole leaf, mesophyll and vasculature under long-day and short-day conditions. d, Percentage of genes showing a given phase shift when comparing two given tissues under long-day and short-day conditions. Phase shifts plotted as positive are phase delay. e, Phase shift topology graph with phase shift of the target tissue on the y axis and the reference tissue phase bin on the x axis. Heat-map indicates per cent of genes that are rhythmic between both conditions. f, Percentage of overlapping genes (POG) between any two tissues under long-day and short-day conditions. The P value resulting from the HAYSTACK analysis was used for gene ranking.\n",
    "\n",
    "http://journals.plos.org/plosone/article?id=10.1371/journal.pone.0021012\n",
    "https://www.nature.com/nature/journal/v538/n7626/full/nature19841.html\n",
    "http://www.genetics.org/content/180/2/821"
   ]
  },
  {
   "cell_type": "markdown",
   "metadata": {
    "collapsed": false
   },
   "source": [
    "# [Head roll stabilisation in the nocturnal bull ant Myrmecia pyriformis: implications for visual navigation](http://jeb.biologists.org/content/219/10/1449)\n",
    "\n",
    "Ant foragers are known to memorise visual scenes that allow them to repeatedly travel along idiosyncratic routes and to return to specific places. Guidance is provided by a comparison between visual memories and current views, which critically depends on how well the attitude of the visual system is controlled. Here we show that nocturnal bull ants stabilise their head to varying degrees against locomotion-induced body roll movements, and this ability decreases as light levels fall. There are always un-compensated head roll oscillations that match the frequency of the stride cycle. Head roll stabilisation involves both visual and non-visual cues as ants compensate for body roll in complete darkness and also respond with head roll movements when confronted with visual pattern oscillations. We show that imperfect head roll control degrades navigation-relevant visual information and discuss ways in which navigating ants may deal with this problem.\n",
    "\n",
    "![](http://jeb.biologists.org/content/jexbio/219/10/1449/F3.large.jpg?width=800&height=600&carousel=1)\n",
    "\n",
    "Stride-cycle-induced head roll oscillations in M. pyriformis during walking. (A) Three still images from a video sequence show the left middle leg position for one stride cycle and the x/y coordinates of the proximal tarsus, which were used to determine leg speed. (B) Panels in column 1 and 3 show the time series of head roll velocity [blue; deg s−1; smoothed with a 25-point running average (200 ms)] together with the 2D path velocity of the left middle leg tarsus (grey; pixels s−1) and the same 2D path velocity of the leg smoothed with a 25-point running average (200 ms) (black; pixels s−1) for six sequences recorded during a 2 h period in the evening (recording times given inside panels). Panels in column 2 and 4 show the power density of leg movements (black) and head roll movements (blue), resulting from a fast Fourier transform of the same sequences. The head roll spectrum has been multiplied by 10 for ease of comparison."
   ]
  },
  {
   "cell_type": "markdown",
   "metadata": {
    "collapsed": false
   },
   "source": [
    "# [Individual Mice Can Be Distinguished by the Period of Their Islet Calcium Oscillations](http://diabetes.diabetesjournals.org/content/54/12/3517)\n",
    "\n",
    "\n",
    "In humans and animals, insulin secretion is pulsatile, and this pulsatility is advantageous for insulin action on its target tissues (1–3). Furthermore, pulsatile insulin secretion is disrupted in type 2 diabetes, with reduction in the amplitude and possibly frequency of the insulin pulses in diabetic patients (4–6) and their close relatives (7,8).\n",
    "\n",
    "Because increases in intracellular calcium concentration ([Ca2+]i) are known to be important for insulin exocytosis in pancreatic β-cells (9,10), the well-documented oscillations in [Ca2+]i observed with >7 mmol/l glucose have been assumed to underlie [islet](https://uk.wikipedia.org/wiki/%D0%9E%D1%81%D1%82%D1%80%D1%96%D0%B2%D1%86%D1%96_%D0%9B%D0%B0%D0%BD%D0%B3%D0%B5%D1%80%D0%B3%D0%B0%D0%BD%D1%81%D0%B0) insulin oscillations, as several studies have shown that pulsatile insulin secretion occurs in phase with islet [Ca2+]i oscillations (11–13). However, the wide range of islet periods observed in mice in vitro is difficult to reconcile with a coherent insulin oscillation in vivo within a single animal. In addition, it is not yet understood how the insulin pulses from different islets are synchronized within the pancreas in vivo, because this would seem to be mandatory to observe distinct oscillations in plasma insulin (14,15).\n",
    "\n",
    "![](http://diabetes.diabetesjournals.org/content/diabetes/54/12/3517/F1.large.jpg?width=800&height=600&carousel=1)\n",
    "Islets from the same mouse have similar [Ca2+]i patterns. A–C: Oscillatory [Ca2+]i patterns made by fura-2 ratiometric imaging are displayed for five islets from each of three mice (A, B, and C). The letters a, o, and g refer to each mouse as represented in the legend to Fig. 3A. Scale bars indicate time and fura-2 ratio (340/380 nm) for each set of five [Ca2+]i traces. The bottom panels in A–C display histograms of all islets measured from each mouse using 0.5-min bins, with the total number of islets measured for each mouse shown in the upper left corner of each histogram. Mean [Ca2+]i periods differed significantly between mice by two-tailed t test (P < 0.0001) and by one-way ANOVA (P < 0.0001).\n",
    "\n",
    "[Metabolic and electrical oscillations: partners in controlling pulsatile insulin secretion](http://ajpendo.physiology.org/content/293/4/E890)"
   ]
  },
  {
   "cell_type": "markdown",
   "metadata": {
    "collapsed": false
   },
   "source": [
    "# [Periodic Patterns in Peptide Masses](https://johncarlosbaez.wordpress.com/2017/04/06/periodic-patterns-in-peptide-masses/)"
   ]
  },
  {
   "cell_type": "markdown",
   "metadata": {
    "collapsed": false
   },
   "source": [
    "![](https://johncarlosbaez.files.wordpress.com/2017/04/peptides.jpg)\n",
    "A peptide is basically a small protein: a chain of made of fewer than 50 amino acids. If you plot the number of peptides of different masses found in various organisms, you see peculiar oscillations. These oscillations have a frequency of about 14 daltons, where a ‘dalton’ is roughly the mass of a hydrogen atom—or more precisely, 1/12 the mass of a carbon atom."
   ]
  },
  {
   "cell_type": "markdown",
   "metadata": {
    "collapsed": false
   },
   "source": [
    "\n",
    "# [TRENDS IN COGNITIVE SCIENCES REVIEW: “BRAIN OSCILLATIONS AND THE IMPORTANCE OF WAVEFORM SHAPE”](http://voyteklab.com/trends-in-cognitive-sciences-review-brain-oscillations-and-the-importance-of-waveform-shape/)"
   ]
  },
  {
   "cell_type": "markdown",
   "metadata": {
    "collapsed": false
   },
   "source": [
    "![](http://voyteklab.com/wp-content/uploads/sines.jpg)\n",
    "Applying a 15-25Hz bandpass filter to a beta oscillation recorded in the motor cortex distorts its temporal dynamics. Specifically, the true beta oscillation has sharp troughs that are destroyed by normal filtering methods"
   ]
  },
  {
   "cell_type": "markdown",
   "metadata": {
    "collapsed": false
   },
   "source": [
    "Repository on GitHub \n",
    "\n",
    "* [GitHub](https://github.com/voytekresearch/misshapen)\n",
    "\n",
    "Demos\n",
    "\n",
    "* [Shape library](https://github.com/voytekresearch/misshapen/blob/master/demo_Shape%20library.ipynb)\n",
    "* [Waveform-based phase estimation](https://github.com/voytekresearch/misshapen/blob/master/demo_Waveform%20phase%20estimate.ipynb)"
   ]
  },
  {
   "cell_type": "markdown",
   "metadata": {
    "collapsed": false
   },
   "source": [
    "# [Method Of Estimation Of Synchronization Strength Between Low-Frequency Oscillations In Heart Rate Variability And Photoplethysmographic Waveform Variability](http://www.romj.org/2016-0101)\n",
    "\n",
    "omplexity of cardiovascular system (CVS) and its regulatory mechanism draws high researcher’s interest to this system. However, many problems are yet to be solved. It is well known that many interacting oscillation processes of different origin are present in CVS [1]. Many approaches have been utilized to study regulatory mechanisms of CVS, such as analysis of heart rate variability (HRV) [2], blood pressure variability (BPV) [3], peripheral blood flow variability [4-7], analysis of interactions between different oscillations in CVS [7-13], etc. Some authors proposed different mathematical models to describe the loops of autonomous regulation of blood circulation [14-17].\n",
    "\n",
    "![](https://img-fotki.yandex.ru/get/68668/159469598.b/0_164b71_d756e5c8_XL.jpg)\n",
    " ECG (a) and PPG (b) signals typical for healthy subjects. Both signals are depicted in arbitrary units.\n",
    " \n",
    " \n",
    " [фотоплетизмограма](https://ru.wikipedia.org/wiki/%D0%A4%D0%BE%D1%82%D0%BE%D0%BF%D0%BB%D0%B5%D1%82%D0%B8%D0%B7%D0%BC%D0%BE%D0%B3%D1%80%D0%B0%D0%BC%D0%BC%D0%B0)\n",
    " \n",
    " ![](https://img-fotki.yandex.ru/get/65759/159469598.b/0_164b72_c0441e94_L.jpg)\n",
    " Linear scale Fourier power spectra calculated from HRV (a) and PPG (b) signals recorded from healthy subject. Spectrum spikes close to 0.1 Hz are marked with fvsymbol. Spikes close to 0.3 Hz are marked with frsymbol.\n",
    " \n",
    " ![](https://img-fotki.yandex.ru/get/65759/159469598.c/0_164b81_79d5c35d_XL.jpg)"
   ]
  },
  {
   "cell_type": "markdown",
   "metadata": {
    "collapsed": false
   },
   "source": [
    "http://jcs.biologists.org/content/121/20/3305\n",
    "http://msb.embopress.org/content/5/1/332\n",
    "http://rsif.royalsocietypublishing.org/content/7/52/1603\n",
    "http://rsta.royalsocietypublishing.org/content/371/1984/20110551\n",
    "\n",
    "\n",
    "http://msb.embopress.org/content/11/1/779\n",
    "http://jeb.biologists.org/content/209/21/4398\n",
    "http://jeb.biologists.org/content/209/22/4533\n",
    "http://journal.frontiersin.org/article/10.3389/fcell.2014.00040/full"
   ]
  }
 ],
 "metadata": {
  "kernelspec": {
  },
  "language_info": {
   "codemirror_mode": "octave",
   "file_extension": ".m",
   "help_links": [
    {
     "text": "MetaKernel Magics",
     "url": "https://github.com/calysto/metakernel/blob/master/metakernel/magics/README.md"
    }
   ],
   "mimetype": "text/x-matlab",
   "name": "matlab",
   "version": "0.14.2"
  }
 },
 "nbformat": 4,
 "nbformat_minor": 0
}