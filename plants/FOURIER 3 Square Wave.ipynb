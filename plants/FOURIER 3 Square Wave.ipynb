{
 "cells": [
  {
   "cell_type": "markdown",
   "metadata": {
    "collapsed": false
   },
   "source": [
    "$$y(t)=\\frac{4A}{\\pi}\\sum_{n=1,3,5}^{\\infty}\\frac{1}{n}sin\\left ( \\frac{n \\pi t}{T/2} \\right )$$"
   ]
  },
  {
   "cell_type": "code",
   "execution_count": 1,
   "metadata": {
    "collapsed": false
   },
   "outputs": [
   ],
   "source": [
    "pkg load signal"
   ]
  },
  {
   "cell_type": "markdown",
   "metadata": {
    "collapsed": false
   },
   "source": [
    "## початковий сигнал - періодичний прямокутний сигнал (меандр)\n",
    "\n",
    "\n",
    "![](https://upload.wikimedia.org/wikipedia/commons/0/0a/Synthesis_square.gif)\n",
    "\n",
    "Синтез меандра з набору гармонік періодичного сигналу. Чим більше число гармонік, тим ближче до ідеальної форма сигналу.\n",
    "\n",
    "https://uk.wikipedia.org/wiki/%D0%9C%D0%B5%D0%B0%D0%BD%D0%B4%D1%80_(%D1%80%D0%B0%D0%B4%D1%96%D0%BE%D1%82%D0%B5%D1%85%D0%BD%D1%96%D0%BA%D0%B0"
   ]
  },
  {
   "cell_type": "code",
   "execution_count": 2,
   "metadata": {
    "collapsed": false
   },
   "outputs": [
    {
     "data": {
      "image/png": "[encoded data removed]"
     },
     "execution_count": 2,
     "metadata": {
     },
     "output_type": "execute_result"
    }
   ],
   "source": [
    "T=2;\n",
    "A=3;\n",
    "\n",
    "t=0:0.01:10;\n",
    "y=A*square(t*(2*pi)/T);\n",
    "plot(t,y)\n",
    "title('Square Wave')\n",
    "xlabel('t')\n",
    "ylabel('y(t)')\n",
    "ylim([-A-0.5 A+0.5])\n",
    "niceplot"
   ]
  },
  {
   "cell_type": "markdown",
   "metadata": {
    "collapsed": true
   },
   "source": [
    "## перша гармоніка"
   ]
  },
  {
   "cell_type": "markdown",
   "metadata": {
    "collapsed": true
   },
   "source": [
    "n=1"
   ]
  },
  {
   "cell_type": "code",
   "execution_count": 3,
   "metadata": {
    "collapsed": false
   },
   "outputs": [
    {
     "data": {
      "image/png": "[encoded data removed]"
     },
     "execution_count": 3,
     "metadata": {
     },
     "output_type": "execute_result"
    }
   ],
   "source": [
    "y1=4*A/pi*sin(pi*t/(T/2));\n",
    "\n",
    "plot(t,y, t,y1)\n",
    "legend('y(t)','1th harmonics')\n",
    "xlabel('t')\n",
    "niceplot"
   ]
  },
  {
   "cell_type": "markdown",
   "metadata": {
    "collapsed": false
   },
   "source": [
    "##  гармоніки 1,3"
   ]
  },
  {
   "cell_type": "code",
   "execution_count": 4,
   "metadata": {
    "collapsed": false
   },
   "outputs": [
    {
     "data": {
      "image/png": "[encoded data removed]"
     },
     "execution_count": 4,
     "metadata": {
     },
     "output_type": "execute_result"
    }
   ],
   "source": [
    "y3=4*A/pi/3*sin(3*pi*t/(T/2));\n",
    "ys=y1+y3;\n",
    "\n",
    "\n",
    "plot(t,y, t,y1, t,y3, t,ys,'b:')\n",
    "legend('y(t)','1','3','sum')\n",
    "xlabel('t')\n",
    "xlim([0 T])\n",
    "niceplot"
   ]
  },
  {
   "cell_type": "markdown",
   "metadata": {
    "collapsed": false
   },
   "source": [
    "##  гармоніки 1,3,5,7"
   ]
  },
  {
   "cell_type": "code",
   "execution_count": 5,
   "metadata": {
    "collapsed": false
   },
   "outputs": [
    {
     "data": {
      "image/png": "[encoded data removed]"
     },
     "execution_count": 5,
     "metadata": {
     },
     "output_type": "execute_result"
    }
   ],
   "source": [
    "y5=4*A/pi/5*sin(5*pi*t/(T/2));\n",
    "y7=4*A/pi/7*sin(7*pi*t/(T/2));\n",
    "ys=y1+y3+y5+y7;\n",
    "\n",
    "\n",
    "plot(t,y, t,y1, t,y3, t,y5, t,y7, t,ys,'b:')\n",
    "legend('y(t)','1','3','5','7','sum')\n",
    "xlabel('t')\n",
    "xlim([0 T])\n",
    "%grid on\n",
    "niceplot"
   ]
  },
  {
   "cell_type": "markdown",
   "metadata": {
    "collapsed": false
   },
   "source": [
    "##  гармоніки 1,3,5,7   -   2й спосіб"
   ]
  },
  {
   "cell_type": "code",
   "execution_count": 6,
   "metadata": {
    "collapsed": false
   },
   "outputs": [
    {
     "data": {
      "image/png": "[encoded data removed]"
     },
     "execution_count": 6,
     "metadata": {
     },
     "output_type": "execute_result"
    }
   ],
   "source": [
    "ys=zeros(size(t));\n",
    "\n",
    "%%%%%%%%%%%%%%%%%%%%%%%%%%%%%%%%%%%%\n",
    "n=1;\n",
    "yn=4*A/pi/n*sin(n*pi*t/(T/2));\n",
    "ys=ys+yn;\n",
    "\n",
    "n=3;\n",
    "yn=4*A/pi/n*sin(n*pi*t/(T/2));\n",
    "ys=ys+yn;\n",
    "\n",
    "n=5;\n",
    "yn=4*A/pi/n*sin(n*pi*t/(T/2));\n",
    "ys=ys+yn;\n",
    "\n",
    "n=7;\n",
    "yn=4*A/pi/n*sin(n*pi*t/(T/2));\n",
    "ys=ys+yn;\n",
    "%%%%%%%%%%%%%%%%%%%%%%%%%%%%%%%%%%%%\n",
    "\n",
    "\n",
    "plot(t,y, t,ys)\n",
    "legend('y(t)','sum')\n",
    "title(['N=7'])\n",
    "xlabel('t')\n",
    "xlim([0 T])\n",
    "%grid on\n",
    "niceplot\n"
   ]
  },
  {
   "cell_type": "markdown",
   "metadata": {
    "collapsed": false
   },
   "source": [
    "##  N гармонік"
   ]
  },
  {
   "cell_type": "code",
   "execution_count": 7,
   "metadata": {
    "collapsed": false
   },
   "outputs": [
    {
     "data": {
      "image/png": "[encoded data removed]"
     },
     "execution_count": 7,
     "metadata": {
     },
     "output_type": "execute_result"
    }
   ],
   "source": [
    "N=7;\n",
    "ys=zeros(size(t));\n",
    "for n=1:2:N\n",
    "    yn=4*A/pi/n*sin(n*pi*t/(T/2));\n",
    "    ys=ys+yn;\n",
    "end\n",
    "\n",
    "plot(t,y, t,ys)\n",
    "legend('y(t)','sum')\n",
    "title(['N=' num2str(N)])\n",
    "xlabel('t')\n",
    "xlim([0 T])\n",
    "%grid on\n",
    "niceplot\n"
   ]
  }
 ],
 "metadata": {
  "kernelspec": {
   "display_name": "Octave",
   "language": "octave",
   "name": "octave"
  },
  "language_info": {
   "file_extension": ".m",
   "help_links": [
    {
     "text": "GNU Octave",
     "url": "https://www.gnu.org/software/octave/support.html"
    },
    {
     "text": "Octave Kernel",
     "url": "https://github.com/Calysto/octave_kernel"
    },
    {
     "text": "MetaKernel Magics",
     "url": "https://github.com/calysto/metakernel/blob/master/metakernel/magics/README.md"
    }
   ],
   "mimetype": "text/x-octave",
   "name": "octave",
   "version": "4.0.0"
  }
 },
 "nbformat": 4,
 "nbformat_minor": 0
}